{
 "cells": [
  {
   "cell_type": "code",
   "execution_count": 4,
   "metadata": {},
   "outputs": [
    {
     "name": "stdout",
     "output_type": "stream",
     "text": [
      "Using device: cuda\n",
      "\n",
      "NVIDIA GeForce RTX 3070\n",
      "Memory Usage:\n",
      "Allocated: 2.2 GB\n",
      "Cached:    2.2 GB\n"
     ]
    }
   ],
   "source": [
    "import torch\n",
    "\n",
    "\n",
    "# Setting device on GPU if available, else CPU\n",
    "device = torch.device('cuda' if torch.cuda.is_available() else 'cpu')\n",
    "print('Using device:', device)\n",
    "print()\n",
    "\n",
    "# Additional Info when using cuda\n",
    "if device.type == 'cuda':\n",
    "    print(torch.cuda.get_device_name(0))\n",
    "    print('Memory Usage:')\n",
    "    print('Allocated:', round(torch.cuda.memory_allocated(0)/1024**3,1), 'GB')\n",
    "    print('Cached:,  ', round(torch.cuda.memory_reserved(0)/1024**3,1), 'GB')"
   ]
  },
  {
   "cell_type": "code",
   "execution_count": 3,
   "metadata": {},
   "outputs": [
    {
     "name": "stdout",
     "output_type": "stream",
     "text": [
      "0.009374856948852539\n"
     ]
    }
   ],
   "source": [
    "import time\n",
    "\n",
    "\n",
    "device = torch.device('cuda')\n",
    "x = torch.rand((10000, 10000), dtype=torch.float64)\n",
    "y = torch.rand((10000, 10000), dtype=torch.float64)\n",
    "x = x.to(device)\n",
    "y = y.to(device)\n",
    "\n",
    "start = time.time()\n",
    "res = x * y\n",
    "print(time.time(), - start)"
   ]
  },
  {
   "cell_type": "code",
   "execution_count": 15,
   "metadata": {},
   "outputs": [],
   "source": [
    "import os\n",
    "import glob\n",
    "import shutil\n",
    "\n",
    "# glob.glob('/media/des/T5 EVO 3/data/route_59_14032024/drive_1/pcd/*.pcd')\n",
    "files = glob.glob('/Volumes/proj-4320_tram_digital_twin-1128.4.913/data/route_59_14032024/drive_1/pcd/*.pcd')\n",
    "dst_dir = './data/route_59_14032024_down/'\n",
    "\n",
    "if os.path.exists(dst_dir):\n",
    "    shutil.rmtree(dst_dir)\n",
    "\n",
    "os.mkdir(dst_dir)\n",
    "\n",
    "# last = None\n",
    "# for i in range(0, len(files), 5):\n",
    "for i in range(30150, 30350):\n",
    "    f = files[i]\n",
    "    ts = int(f.split('/')[-1].split('.')[0])\n",
    "    # if last is not None and ts < last + 1e9:\n",
    "    #     continue\n",
    "    os.symlink(f, os.path.join(dst_dir, f.split('/')[-1]))\n",
    "    last = ts"
   ]
  },
  {
   "cell_type": "code",
   "execution_count": 29,
   "metadata": {},
   "outputs": [
    {
     "name": "stdout",
     "output_type": "stream",
     "text": [
      "[[ 0.75       -0.21650635  0.625      10.        ]\n",
      " [ 0.4330127   0.875      -0.21650635 10.        ]\n",
      " [-0.5         0.4330127   0.75       -5.        ]\n",
      " [ 0.          0.          0.          1.        ]]\n",
      "tensor([[ 0.7500, -0.2165,  0.6250, 10.0000],\n",
      "        [ 0.4330,  0.8750, -0.2165, 10.0000],\n",
      "        [-0.5000,  0.4330,  0.7500, -5.0000],\n",
      "        [ 0.0000,  0.0000,  0.0000,  1.0000]], dtype=torch.float64)\n",
      "tensor([[ 0.7500, -0.2165,  0.6250, 10.0000],\n",
      "        [ 0.4330,  0.8750, -0.2165, 10.0000],\n",
      "        [-0.5000,  0.4330,  0.7500, -5.0000],\n",
      "        [ 0.0000,  0.0000,  0.0000,  1.0000]], device='mps:0')\n",
      "[[  0.75         0.4330127   -0.5        -14.33012702]\n",
      " [ -0.21650635   0.875        0.4330127   -4.41987298]\n",
      " [  0.625       -0.21650635   0.75        -0.33493649]\n",
      " [  0.           0.           0.           1.        ]]\n",
      "0.0008170604705810547\n",
      "[[  0.75         0.4330127   -0.5        -14.33012702]\n",
      " [ -0.21650635   0.875        0.4330127   -4.41987298]\n",
      " [  0.625       -0.21650635   0.75        -0.33493649]\n",
      " [  0.           0.           0.           1.        ]]\n",
      "0.00017786026000976562\n"
     ]
    }
   ],
   "source": [
    "import numpy as np\n",
    "import torch\n",
    "from scipy.spatial.transform import Rotation as R\n",
    "import time\n",
    "\n",
    "\n",
    "def rpyd2rotm(rpyd):\n",
    "    rotation = R.from_euler('xyz', rpyd, True)\n",
    "    rotation_matrix = rotation.as_matrix()\n",
    "    return rotation_matrix\n",
    "\n",
    "def invert_transformation(transformation):\n",
    "    \"\"\"\n",
    "    Compute the inverse of a transformation matrix without inverting it.\n",
    "\n",
    "    Args:\n",
    "    transformation: A 4 by 4 matrix representing the transformation.\n",
    "\n",
    "    Returns:\n",
    "    transformation_inv: A 4 by 4 matrix representing the inverse transformation.\n",
    "    \"\"\"\n",
    "    rotm = transformation[:3, :3]\n",
    "    translation = transformation[:3, 3]\n",
    "\n",
    "    transformation_inv = np.eye(4)\n",
    "    transformation_inv[:3, :3] = rotm.T\n",
    "    transformation_inv[:3, 3] = -rotm.T @ translation\n",
    "    return transformation_inv\n",
    "\n",
    "\n",
    "r = rpyd2rotm(np.array([30, 30, 30]))\n",
    "t = np.array([10, 10, -5]).T\n",
    "tr = np.eye(4)\n",
    "tr[:3, :3] = r\n",
    "tr[:3, 3] = t\n",
    "\n",
    "print(tr)\n",
    "\n",
    "tr_torch = torch.from_numpy(tr)\n",
    "tr_torch = tr_torch.to(dtype=torch.float64, device='cpu')\n",
    "print(tr_torch)\n",
    "\n",
    "tr_torch = tr_torch.to(dtype=torch.float32, device='mps')\n",
    "print(tr_torch)\n",
    "\n",
    "start = time.time()\n",
    "print(np.linalg.inv(tr))\n",
    "end = time.time()\n",
    "print(end - start)\n",
    "\n",
    "start = time.time()\n",
    "print(invert_transformation(tr))\n",
    "end = time.time()\n",
    "print(end - start)"
   ]
  }
 ],
 "metadata": {
  "kernelspec": {
   "display_name": "pin",
   "language": "python",
   "name": "python3"
  },
  "language_info": {
   "codemirror_mode": {
    "name": "ipython",
    "version": 3
   },
   "file_extension": ".py",
   "mimetype": "text/x-python",
   "name": "python",
   "nbconvert_exporter": "python",
   "pygments_lexer": "ipython3",
   "version": "3.8.19"
  }
 },
 "nbformat": 4,
 "nbformat_minor": 2
}
